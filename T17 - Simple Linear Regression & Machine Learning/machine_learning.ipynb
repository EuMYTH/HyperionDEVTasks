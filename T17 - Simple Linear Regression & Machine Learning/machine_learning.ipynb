{
 "cells": [
  {
   "cell_type": "markdown",
   "metadata": {
    "id": "IBb6nSAY5T4I"
   },
   "source": [
    "# Machine Learning"
   ]
  },
  {
   "cell_type": "markdown",
   "metadata": {
    "id": "N02Qu9_f1N45"
   },
   "source": [
    "1. For each of the following examples describe at least one possible input and\n",
    "output. Justify your answers:  \n",
    "* 1.1 A self-driving car\n",
    "* 1.2 Netflix recommendation system\n",
    "* 1.3 Signature recognition\n",
    "* 1.4 Medical diagnosis\n"
   ]
  },
  {
   "cell_type": "markdown",
   "metadata": {
    "id": "-8aBqprP3ypo"
   },
   "source": [
    "1. Answer here\n",
    "\n",
    "|      | Input(s)    | Output     |\n",
    "| ---- | ----------- | ---------  |\n",
    "\n",
    "# Teach the car how to drive\n",
    "| 1.1  |Data from car sensors like cameras and radars, as well as GPS data|Instructions for steering, accelerating, and braking|\n",
    "\n",
    "# Use what the person has liked before to guess what they might like in the future\n",
    "| 1.2  |Information about what movies or shows a person has watched and liked|Suggestions for what else they might enjoy watching|\n",
    "\n",
    "# Teach the computer to recognize different signatures \n",
    "| 1.3  |Pictures of signatures|Identifying whose signature it is|\n",
    "\n",
    "# Use patterns in data from many patients to help doctors diagnose illnesses \n",
    "| 1.4  |Symptoms a patient describes, results of tests like blood tests or X-rays|Figuring out what illness a patient might have|"
   ]
  },
  {
   "cell_type": "markdown",
   "metadata": {
    "id": "l_I2f4C85yNF"
   },
   "source": [
    "\n",
    "2. For each of the following case studies, determine whether it is appropriate to utilise regression or classification machine learning algorithms. Justify your answers:\n",
    "* 2.1 Classifying emails as promotion or social based on their content and metadata.\n",
    "* 2.2 Forecasting the stock price of a company based on historical data and market trends.\n",
    "* 2.3 Sorting images of animals into different species based on their visual features.\n",
    "* 2.4 Predicting the likelihood of a patient having a particular disease based on medical history and diagnostic test results."
   ]
  },
  {
   "cell_type": "markdown",
   "metadata": {
    "id": "WgMUsqQr6qFU"
   },
   "source": [
    "2. Answer here\n",
    "* 2.1 Teach the computer what different types of emails look like by showing examples | This is a classification task because we're categorizing emails into distinct classes\n",
    "  \n",
    "* 2.2 Look for patterns in past stock prices to guess what might happen in the future | Regression. Stock price prediction involves predicting a continuous value (price) based on historical data and market trends.\n",
    "  \n",
    "* 2.3 Teach the computer to recognize patterns in animal images to determine their species | This is a classification task where we categorize images into different classes (animal species) based on their visual features.\n",
    "  \n",
    "* 2.4 Use data from past patients to guess what might happen with new patients | Classification. Medical diagnosis involves predicting a categorical outcome"
   ]
  },
  {
   "cell_type": "markdown",
   "metadata": {
    "id": "b6f8UETG64hH"
   },
   "source": [
    "3. For each of the following real-world problems, determine whether it is appropriate to utilise a supervised or unsupervised machine learning algorithm. Justify your answers:\n",
    "* 3.1 Detecting anomalies in a manufacturing process using sensor data without prior knowledge of specific anomaly patterns.\n",
    "* 3.2 Predicting customer lifetime value based on historical transaction data and customer demographics.\n",
    "* 3.3 Segmenting customer demographics based on their purchase history, browsing behaviour, and preferences.\n",
    "* 3.4 Analysing social media posts to categorise them into different themes.\n"
   ]
  },
  {
   "cell_type": "markdown",
   "metadata": {
    "id": "W6dTYBvd675O"
   },
   "source": [
    "3. Answer here\n",
    "* 3.1 Unsupervised Learning. Use unsupervised learning because we don't know exactly what anomalies look like beforehand. Unsupervised methods can find unusual patterns in data without needing examples of anomalies.\n",
    "  \n",
    "* 3.2 Supervised Learning. Supervised learning because we have past data with known customer values.\n",
    "  \n",
    "* 3.3 Unsupervised Learning. Unsupervised learning we can group customers with similar behaviors or characteristics.\n",
    "  \n",
    "* 3.4 Unsupervised Learning. Unsupervised learning we can automatically discover themes in posts."
   ]
  },
  {
   "cell_type": "markdown",
   "metadata": {
    "id": "bqsun96o64xe"
   },
   "source": [
    "4.\n",
    "For each of the following real-world problems, determine whether it is appropriate to utilise semi-supervised machine learning algorithms. Justify your answers:\n",
    "* 4.1 Predicting fraudulent financial transactions using a dataset where most transactions are labelled as fraudulent or legitimate.\n",
    "* 4.2 Analysing customer satisfaction surveys where only a small portion of the data is labelled with satisfaction ratings.\n",
    "* 4.3 Identifying spam emails in a dataset where the majority of emails are labelled.\n",
    "* 4.4 Predicting the probability of default for credit card applicants based on their complete financial and credit-related information.\n"
   ]
  },
  {
   "cell_type": "markdown",
   "metadata": {
    "id": "aTWugZ6q68GF"
   },
   "source": [
    "4. Answer here\n",
    "* 4.1 In this case, since most transactions are already labeled as fraudulent or legitimate, it's more suitable to use supervised learning techniques.\n",
    "* 4.2 Semi-supervised learning can be useful here because of the limited labeled data.\n",
    "* 4.3 Similar to the fraudulent transactions case, since most emails are already labeled as spam or not spam, supervised learning methods are more appropriate.\n",
    "* 4.4 Given that complete financial and credit-related information is available for credit card applicants, supervised learning methods can effectively predict the probability of default. "
   ]
  }
 ],
 "metadata": {
  "colab": {
   "provenance": []
  },
  "kernelspec": {
   "display_name": "Python 3 (ipykernel)",
   "language": "python",
   "name": "python3"
  },
  "language_info": {
   "codemirror_mode": {
    "name": "ipython",
    "version": 3
   },
   "file_extension": ".py",
   "mimetype": "text/x-python",
   "name": "python",
   "nbconvert_exporter": "python",
   "pygments_lexer": "ipython3",
   "version": "3.10.2"
  }
 },
 "nbformat": 4,
 "nbformat_minor": 4
}
